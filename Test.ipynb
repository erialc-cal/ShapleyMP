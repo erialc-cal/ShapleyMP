{
 "cells": [
  {
   "cell_type": "markdown",
   "id": "c4ccf4b2-f518-41e7-a879-4957a8507d69",
   "metadata": {},
   "source": [
    "# Untitled"
   ]
  },
  {
   "cell_type": "code",
   "execution_count": 17,
   "id": "f1dc8170-ab92-4a0c-ab36-e3e5ee0dba26",
   "metadata": {},
   "outputs": [],
   "source": [
    "import numpy as np\n",
    "import scipy as sp\n",
    "import pandas as pd\n",
    "import matplotlib.pyplot as plt\n",
    "import seaborn as sns\n",
    "import sys\n",
    "sys.path.append('../shapley_compute/')"
   ]
  },
  {
   "cell_type": "code",
   "execution_count": 18,
   "id": "ec9e15b7-6c97-4494-a589-545f0d5d5824",
   "metadata": {},
   "outputs": [],
   "source": [
    "from shapley_compute.simulations.regressions import normal_linear_model, correlated_features_regression\n",
    "from shapley_compute.ensembled_mp import mp_shapley, loco_error, shapley_mp\n",
    "from shapley_compute.minipatches import minipatch_regression, get_minipatch\n",
    "from shapley_compute.locomp import LOCOMPReg, LOCOMP_random\n",
    "from shapley_compute.plots import visualise_minipatch"
   ]
  },
  {
   "cell_type": "code",
   "execution_count": 19,
   "id": "882ab18a-adf6-4742-9c2d-00bbd0ad2479",
   "metadata": {},
   "outputs": [],
   "source": [
    "M = 10 # features\n",
    "N = 5000 # observations\n",
    "rho = 0.8\n",
    "s = 0.5\n",
    "SNR = 10\n",
    "y, X, beta = normal_linear_model(N, M, s=s, SNR=SNR)  # N, M, SNR = 10, sigma2=0.4, s=0.2"
   ]
  },
  {
   "cell_type": "code",
   "execution_count": null,
   "id": "d0830668-c76b-4144-ad87-c752b297f48b",
   "metadata": {},
   "outputs": [],
   "source": []
  },
  {
   "cell_type": "code",
   "execution_count": null,
   "id": "74f610d9-7078-425f-bd39-1abea385b200",
   "metadata": {},
   "outputs": [],
   "source": []
  }
 ],
 "metadata": {
  "kernelspec": {
   "display_name": "Python 3 (ipykernel)",
   "language": "python",
   "name": "python3"
  },
  "language_info": {
   "codemirror_mode": {
    "name": "ipython",
    "version": 3
   },
   "file_extension": ".py",
   "mimetype": "text/x-python",
   "name": "python",
   "nbconvert_exporter": "python",
   "pygments_lexer": "ipython3",
   "version": "3.11.8"
  }
 },
 "nbformat": 4,
 "nbformat_minor": 5
}
