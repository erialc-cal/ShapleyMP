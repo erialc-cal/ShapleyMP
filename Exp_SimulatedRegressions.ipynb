{
 "cells": [
  {
   "cell_type": "markdown",
   "id": "b880a2aa-3c45-41a3-911d-929dea63cc1b",
   "metadata": {},
   "source": [
    "# Simulations with regressions"
   ]
  },
  {
   "cell_type": "code",
   "execution_count": 1,
   "id": "9938e558-5eb9-4957-bb9e-ea14b3cc61e1",
   "metadata": {
    "editable": true,
    "slideshow": {
     "slide_type": ""
    },
    "tags": []
   },
   "outputs": [],
   "source": [
    "import numpy as np\n",
    "import scipy as sp\n",
    "import pandas as pd\n",
    "import matplotlib.pyplot as plt\n",
    "import seaborn as sns\n"
   ]
  },
  {
   "cell_type": "code",
   "execution_count": 2,
   "id": "07664469-e6ce-478f-b404-8300c77603cc",
   "metadata": {},
   "outputs": [],
   "source": [
    "from sklearn.linear_model import LinearRegression\n",
    "from sklearn.model_selection import train_test_split"
   ]
  },
  {
   "cell_type": "code",
   "execution_count": 3,
   "id": "1d6a2665-8cc4-4224-81ca-734ee26e32dd",
   "metadata": {},
   "outputs": [],
   "source": [
    "import sys\n",
    "sys.path.append('./shapley_compute/')"
   ]
  },
  {
   "cell_type": "markdown",
   "id": "ecf6afe6-9c27-4464-9494-a824b768f7f2",
   "metadata": {
    "editable": true,
    "slideshow": {
     "slide_type": ""
    },
    "tags": []
   },
   "source": [
    "## High dimensional linear regression with independent features"
   ]
  },
  {
   "cell_type": "code",
   "execution_count": 4,
   "id": "3a89b973-e7d3-4ac1-ac5e-f36eb81e3d89",
   "metadata": {
    "editable": true,
    "slideshow": {
     "slide_type": ""
    },
    "tags": []
   },
   "outputs": [],
   "source": [
    "from shapley_compute.ensembled_mp import mp_shapley\n",
    "from shapley_compute.minipatches import minipatch_regression"
   ]
  },
  {
   "cell_type": "code",
   "execution_count": 5,
   "id": "711d89b5-2d2e-43c0-831e-858c24598fbc",
   "metadata": {},
   "outputs": [],
   "source": [
    "def normal_linear_model(N, M, sigma2=0.4, s=0.2):\n",
    "    \"\"\"\n",
    "    N: number of obs\n",
    "    M: number of features\n",
    "    sigma2: variance \n",
    "    s: sparsity level\n",
    "    \"\"\" \n",
    "    np.random.seed(123)\n",
    "    X = np.random.normal(0,1, size=(N,M))\n",
    "    M1=int(s*M)\n",
    "    beta = np.append(np.random.normal(5, 1, M1),np.array([0]*(M-M1))) # M-M1 beta are set to 0, M1 are non zeros\n",
    "    eps = np.random.normal(0, sigma2, size=N)\n",
    "\n",
    "    y = X@beta + eps\n",
    "    return y, X, beta\n",
    "    \n"
   ]
  },
  {
   "cell_type": "code",
   "execution_count": 12,
   "id": "fdd7fc6d-9d74-4ca7-9559-cd53fa40ab15",
   "metadata": {
    "editable": true,
    "slideshow": {
     "slide_type": ""
    },
    "tags": []
   },
   "outputs": [],
   "source": [
    "N = 500\n",
    "M = 20\n",
    "y, X, beta = normal_linear_model(N,M)"
   ]
  },
  {
   "cell_type": "code",
   "execution_count": 13,
   "id": "097a8729-782f-45b7-ade2-2d199406ff6b",
   "metadata": {},
   "outputs": [],
   "source": [
    "X_train, X_test, y_train, y_test = train_test_split(X, y, test_size=0.2)"
   ]
  },
  {
   "cell_type": "code",
   "execution_count": 14,
   "id": "136b4bd7-8484-405e-b9cb-8dfe1f9dd182",
   "metadata": {},
   "outputs": [
    {
     "data": {
      "text/plain": [
       "((400, 20), (100, 20), (400,))"
      ]
     },
     "execution_count": 14,
     "metadata": {},
     "output_type": "execute_result"
    }
   ],
   "source": [
    "X_train.shape, X_test.shape, y_train.shape"
   ]
  },
  {
   "cell_type": "code",
   "execution_count": 17,
   "id": "0549e597-483b-4971-97eb-72c35acbb34f",
   "metadata": {
    "editable": true,
    "slideshow": {
     "slide_type": ""
    },
    "tags": []
   },
   "outputs": [],
   "source": [
    "# fit a linear regression and evaluate shapley mp\n",
    "\n",
    "model = LinearRegression()\n",
    "\n",
    "res = minipatch_regression(X_train, y_train, X_test, model, 0.2, 1000)"
   ]
  },
  {
   "cell_type": "code",
   "execution_count": null,
   "id": "c6154b91-ca82-4cad-a6c7-b0a977f29228",
   "metadata": {
    "editable": true,
    "slideshow": {
     "slide_type": ""
    },
    "tags": []
   },
   "outputs": [],
   "source": [
    "shap = mp_shapley(X_test, res)"
   ]
  },
  {
   "cell_type": "code",
   "execution_count": null,
   "id": "39758cb0-23c2-48b3-b597-5213416da943",
   "metadata": {
    "editable": true,
    "slideshow": {
     "slide_type": ""
    },
    "tags": []
   },
   "outputs": [],
   "source": [
    "plt.barh([i for i in range(M)], np.mean(np.abs(shap),axis=0))"
   ]
  },
  {
   "cell_type": "code",
   "execution_count": null,
   "id": "5d4b17ea-f90d-44eb-b2bb-d772ce7b214c",
   "metadata": {},
   "outputs": [],
   "source": [
    "beta"
   ]
  },
  {
   "cell_type": "code",
   "execution_count": null,
   "id": "76375f8f-1c2a-4973-b9c8-21d294ef9dcc",
   "metadata": {
    "editable": true,
    "slideshow": {
     "slide_type": ""
    },
    "tags": []
   },
   "outputs": [],
   "source": [
    "import shap\n",
    "model = LinearRegression()\n",
    "model.fit(X_train, y_train)\n",
    "explainer = shap.Explainer(model.predict, X_test)\n",
    "# Calculates the SHAP values - It takes some time\n",
    "shap_values_lr = explainer(X_test)"
   ]
  },
  {
   "cell_type": "code",
   "execution_count": null,
   "id": "9da80182-9b01-4b53-9301-d9ea2241fb56",
   "metadata": {},
   "outputs": [],
   "source": [
    "plt.barh([i for i in range(M)], np.mean(np.abs(shap_values_lr.values),axis=0))"
   ]
  },
  {
   "cell_type": "code",
   "execution_count": null,
   "id": "8293c841-1d29-4adb-a0f7-cd9e2d3a4506",
   "metadata": {
    "editable": true,
    "slideshow": {
     "slide_type": ""
    },
    "tags": []
   },
   "outputs": [],
   "source": []
  },
  {
   "cell_type": "code",
   "execution_count": null,
   "id": "7211f2bd-a8fa-4418-ae08-15402725a027",
   "metadata": {},
   "outputs": [],
   "source": []
  },
  {
   "cell_type": "code",
   "execution_count": null,
   "id": "ded7825a-c998-4033-9140-b7db8429ba0c",
   "metadata": {},
   "outputs": [],
   "source": []
  }
 ],
 "metadata": {
  "kernelspec": {
   "display_name": "Python 3 (ipykernel)",
   "language": "python",
   "name": "python3"
  },
  "language_info": {
   "codemirror_mode": {
    "name": "ipython",
    "version": 3
   },
   "file_extension": ".py",
   "mimetype": "text/x-python",
   "name": "python",
   "nbconvert_exporter": "python",
   "pygments_lexer": "ipython3",
   "version": "3.11.8"
  }
 },
 "nbformat": 4,
 "nbformat_minor": 5
}
