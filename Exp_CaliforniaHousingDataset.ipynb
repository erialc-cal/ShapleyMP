{
 "cells": [
  {
   "cell_type": "markdown",
   "id": "32eb3d6b-e3ce-4d47-805a-632a3f3616ca",
   "metadata": {},
   "source": [
    "# Minipatch for Shapley values"
   ]
  },
  {
   "cell_type": "code",
   "execution_count": 55,
   "id": "986868b9-d5f8-4c00-ab73-cdd05d4afd2e",
   "metadata": {
    "editable": true,
    "slideshow": {
     "slide_type": ""
    },
    "tags": []
   },
   "outputs": [],
   "source": [
    "import numpy as np\n",
    "import matplotlib.pyplot as plt\n",
    "import pandas as pd\n",
    "from scipy.stats import norm\n",
    "from scipy.special import binom \n",
    "from itertools import combinations"
   ]
  },
  {
   "cell_type": "code",
   "execution_count": 56,
   "id": "91e1ec2a-b304-4523-9a5a-ad6a59e980f9",
   "metadata": {
    "editable": true,
    "slideshow": {
     "slide_type": ""
    },
    "tags": []
   },
   "outputs": [],
   "source": [
    "import shap\n",
    "from sklearn.datasets import fetch_california_housing\n",
    "from sklearn.model_selection import train_test_split\n",
    "from sklearn.ensemble import RandomForestRegressor\n",
    "from sklearn.linear_model import LinearRegression"
   ]
  },
  {
   "cell_type": "code",
   "execution_count": 57,
   "id": "159bddd0-5757-4c42-8018-a069899d2355",
   "metadata": {
    "editable": true,
    "slideshow": {
     "slide_type": ""
    },
    "tags": []
   },
   "outputs": [],
   "source": [
    "import seaborn as sns\n",
    "# from tqdm.notebook import trange"
   ]
  },
  {
   "cell_type": "code",
   "execution_count": 58,
   "id": "ffeaa16f-7b26-4b28-b72c-d05dd8b3dc28",
   "metadata": {
    "editable": true,
    "slideshow": {
     "slide_type": ""
    },
    "tags": []
   },
   "outputs": [],
   "source": [
    "import sys\n",
    "sys.path.append('./shapley_compute/')\n",
    "from shapley_compute.ensembled_mp import mp_shapley\n",
    "from shapley_compute.minipatches import minipatch_regression_loo, get_minipatch"
   ]
  },
  {
   "cell_type": "code",
   "execution_count": 59,
   "id": "9dcd3bc2-4887-4a86-a8eb-3ebb011a8cff",
   "metadata": {
    "editable": true,
    "scrolled": true,
    "slideshow": {
     "slide_type": ""
    },
    "tags": []
   },
   "outputs": [
    {
     "data": {
      "image/png": "[encoded data removed]",
      "text/plain": [
       "<Figure size 600x100 with 1 Axes>"
      ]
     },
     "metadata": {},
     "output_type": "display_data"
    }
   ],
   "source": [
    "palette = sns.color_palette([\n",
    "    \"#7fbf7b\",  # Light Green\n",
    "    \"#af8dc3\",  # Lavender\n",
    "    \"#e7d4e8\",  # Light Purple\n",
    "    \"#fdc086\",  # Light Orange\n",
    "    \"#ff9896\",  # Light Red\n",
    "    \"#c5b0d5\"   # Light Blue\n",
    "])\n",
    "\n",
    "# Display the palettes\n",
    "sns.palplot(palette)"
   ]
  },
  {
   "cell_type": "markdown",
   "id": "d3cc1d05-ac67-4303-8f0f-d4dca706279d",
   "metadata": {},
   "source": [
    "Reworked by only considering the subset sampled in minipatches. Let $d_K = \\sum_k F_k$ total of combinations of features sampled in minipatch.\n",
    "$$\\hat{\\phi}_{j}^{\\text{MP-LOO}}(X_i) = \\frac{1}{d} \\sum_{k: j \\notin F_k} {{d-1}\\choose{|F_k|}}^{-1} \\bigg( \\frac{1}{\\sum_{l: F_l=F_k\\cup\\{j\\} } \\mathbb{I}(i \\notin I_l) \\mathbb{I}(j \\notin F_k)} \\sum_{l: F_l=F_k\\cup\\{j\\} } \\mathbb{I}(i \\notin I_l) \\hat{f}_{(I_l,F_l)}^{-i}(X_{i, F_l}) - \\frac{1}{\\sum_{k:j \\notin F_k} \\mathbb{I}(i \\notin I_k) \\mathbb{I}(j \\notin F_k)} \\mathbb{I}(i \\notin I_k) \\hat{f}_{(I_k, F_k)}^{-i} (X_{i, F_k})\\bigg)$$"
   ]
  },
  {
   "cell_type": "markdown",
   "id": "46a72d86-37ce-48a1-a77d-b5fdaf251da8",
   "metadata": {},
   "source": [
    "Approximation:\n",
    "- $(\\hat{f}^{-i}_{(I_k, F_k)})_{k = 1}^K$\n",
    "- $(F_k)_{k=1}^K \\propto \\mathcal{P}(\\{1, \\dots, d \\})$ "
   ]
  },
  {
   "cell_type": "markdown",
   "id": "a81b7ce3-a2b0-4e80-ab5a-867abbd0e859",
   "metadata": {},
   "source": [
    "## Data/benchmarking\n",
    "- Toy examples with a few correlated features : benchmark datasets \n"
   ]
  },
  {
   "cell_type": "code",
   "execution_count": 75,
   "id": "20f33942-9d35-40eb-be3b-5eae09da741d",
   "metadata": {},
   "outputs": [],
   "source": [
    "# California Housing Prices\n",
    "dataset = fetch_california_housing(as_frame = True)\n",
    "X = dataset['data']\n",
    "y = dataset['target']\n",
    "model = LinearRegression()"
   ]
  },
  {
   "cell_type": "markdown",
   "id": "4556a3d8-15ab-4426-86e0-e122fd08b9b2",
   "metadata": {},
   "source": [
    "### Tests with exact shapley"
   ]
  },
  {
   "cell_type": "code",
   "execution_count": 76,
   "id": "a7a7cf7b-eae8-4d27-a902-50a00587e040",
   "metadata": {
    "editable": true,
    "scrolled": true,
    "slideshow": {
     "slide_type": ""
    },
    "tags": []
   },
   "outputs": [],
   "source": [
    "X_train, X_test, y_train, y_test = train_test_split(X, y, test_size = 0.2)\n",
    "# Prepares a default instance of the random forest regressor\n",
    "model = RandomForestRegressor()\n",
    "\n",
    "# Fits the model on the data\n",
    "model.fit(X_train, y_train)\n",
    "\n",
    "# Fits the explainer\n",
    "explainer = shap.Explainer(model.predict, X_train)\n",
    "# Calculates the SHAP values - It takes some time\n",
    "#shap_values_lr = explainer(X_test)"
   ]
  },
  {
   "cell_type": "code",
   "execution_count": null,
   "id": "48482461-db47-4c98-b874-f9190b54e285",
   "metadata": {},
   "outputs": [
    {
     "name": "stderr",
     "output_type": "stream",
     "text": [
      " 19%|█▉        | 785/4128 [01:47<07:33,  7.38it/s]"
     ]
    }
   ],
   "source": [
    "X_train, X_test, y_train, y_test = train_test_split(X, y, test_size = 0.2)\n",
    "# Prepares a default instance of the random forest regressor\n",
    "model = RandomForestRegressor()\n",
    "sample_size = 100  # Adjust the sample size according to your computational resources\n",
    "sampled_indices = np.random.choice(X_train.shape[0], size=sample_size, replace=False)\n",
    "X_sample = np.array(X_train)[sampled_indices]\n",
    "y_sample = np.array(y_train)[sampled_indices]\n",
    "\n",
    "# Fits the model on the data\n",
    "model.fit(X_sample, y_sample)\n",
    "\n",
    "# Fits the explainer\n",
    "explainer = shap.KernelExplainer(model.predict, X_sample)\n",
    "# Calculates the SHAP values - It takes some time\n",
    "kernelSHAP = explainer(X_test)"
   ]
  },
  {
   "cell_type": "code",
   "execution_count": 114,
   "id": "0a0c7fde-7bb4-4f87-b0d1-3cbd0e4ab9ba",
   "metadata": {},
   "outputs": [
    {
     "name": "stderr",
     "output_type": "stream",
     "text": [
      "Exact explainer: 4129it [11:21,  5.97it/s]                          \n"
     ]
    }
   ],
   "source": [
    "shap_values_lr = explainer(X_test)"
   ]
  },
  {
   "cell_type": "code",
   "execution_count": 63,
   "id": "50c43ff6-651e-40fc-8bae-8967a54b1214",
   "metadata": {},
   "outputs": [
    {
     "data": {
      "text/plain": [
       "<Axes: >"
      ]
     },
     "execution_count": 63,
     "metadata": {},
     "output_type": "execute_result"
    },
    {
     "data": {
      "image/png": "[encoded data removed]",
      "text/plain": [
       "<Figure size 640x480 with 2 Axes>"
      ]
     },
     "metadata": {},
     "output_type": "display_data"
    }
   ],
   "source": [
    "sns.heatmap(X.corr(), annot=True,cmap='viridis')"
   ]
  },
  {
   "cell_type": "code",
   "execution_count": 90,
   "id": "bae45392-5d5d-4a11-acff-99262bbed078",
   "metadata": {},
   "outputs": [
    {
     "data": {
      "text/plain": [
       "17302    2.510\n",
       "16963    3.882\n",
       "7386     1.051\n",
       "6787     1.928\n",
       "11310    1.885\n",
       "         ...  \n",
       "12779    0.498\n",
       "9422     3.500\n",
       "17353    1.580\n",
       "14439    2.763\n",
       "17191    2.861\n",
       "Name: MedHouseVal, Length: 16512, dtype: float64"
      ]
     },
     "execution_count": 90,
     "metadata": {},
     "output_type": "execute_result"
    }
   ],
   "source": [
    "y_train"
   ]
  },
  {
   "cell_type": "code",
   "execution_count": 83,
   "id": "62b881be-f91b-466c-853f-16917b909236",
   "metadata": {},
   "outputs": [],
   "source": [
    "model = RandomForestRegressor()"
   ]
  },
  {
   "cell_type": "code",
   "execution_count": 91,
   "id": "a3400ba1-b732-4ea9-94c3-9cd31b3ac88d",
   "metadata": {},
   "outputs": [],
   "source": [
    "from shapley_compute.minipatches import minipatch_regression\n",
    "from shapley_compute.ensembled_mp import shapley_mp, mp_shapley\n",
    "x_ratio = 0.02\n",
    "B = 1000\n",
    "res = minipatch_regression(np.array(X_train), np.array(y_train), np.array(X_test), model, x_ratio, B)\n"
   ]
  },
  {
   "cell_type": "code",
   "execution_count": 100,
   "id": "18b6852b-7552-4b63-8c22-510b74bc7b32",
   "metadata": {},
   "outputs": [
    {
     "data": {
      "text/plain": [
       "((1000, 4128, 1), (1000, 16512), (1000, 8), (4128, 8))"
      ]
     },
     "execution_count": 100,
     "metadata": {},
     "output_type": "execute_result"
    }
   ],
   "source": [
    "res[0].shape, res[1].shape, res[2].shape, X_test.shape"
   ]
  },
  {
   "cell_type": "code",
   "execution_count": 110,
   "id": "a017fbc7-2bb4-4a3c-a0c9-1a9924879551",
   "metadata": {},
   "outputs": [
    {
     "name": "stderr",
     "output_type": "stream",
     "text": [
      "100%|██████████| 8/8 [00:00<00:00, 41.87it/s]\n"
     ]
    }
   ],
   "source": [
    "# approx_shap = mp_shapley(X_test, res)\n",
    "import tqdm\n",
    "new_shap = np.zeros((X_test.shape))\n",
    "for i in tqdm.tqdm(range(X_test.shape[1])): \n",
    "    new_shap[:,i] = shapley_mp(i, res)"
   ]
  },
  {
   "cell_type": "code",
   "execution_count": 115,
   "id": "e81baa9d-99e8-41ba-99a2-d56f28a3456e",
   "metadata": {},
   "outputs": [
    {
     "data": {
      "text/plain": [
       "((4128, 8), (4128, 8))"
      ]
     },
     "execution_count": 115,
     "metadata": {},
     "output_type": "execute_result"
    }
   ],
   "source": [
    "new_shap.shape, shap_values_lr.shape"
   ]
  },
  {
   "cell_type": "code",
   "execution_count": 64,
   "id": "1add6970-3d1c-4239-97c0-97181b0f1270",
   "metadata": {},
   "outputs": [],
   "source": [
    "# np.save('./shapley_file/exact_SHAP_linear.npy', shap_values_lr)"
   ]
  },
  {
   "cell_type": "code",
   "execution_count": 65,
   "id": "f65f89dd-311d-431c-b91d-7899e0d6719b",
   "metadata": {},
   "outputs": [],
   "source": [
    "shap_values = np.load('./shapley_files/exact_SHAP.npy', allow_pickle=True)"
   ]
  },
  {
   "cell_type": "code",
   "execution_count": 66,
   "id": "2e1b6631-afbe-46f8-aa2d-e2de069bbd34",
   "metadata": {},
   "outputs": [],
   "source": [
    "shap_values = shap_values.ravel()[0]\n",
    "# shap_values_lr.values"
   ]
  },
  {
   "cell_type": "code",
   "execution_count": 67,
   "id": "1800fec1-0c56-4915-a66b-e3fb38363881",
   "metadata": {},
   "outputs": [
    {
     "data": {
      "text/plain": [
       "(4128,)"
      ]
     },
     "execution_count": 67,
     "metadata": {},
     "output_type": "execute_result"
    }
   ],
   "source": [
    "shap_values['base_values'].shape"
   ]
  },
  {
   "cell_type": "code",
   "execution_count": 137,
   "id": "e017fcf0-e187-45d3-a9c1-7e8fdaa93745",
   "metadata": {},
   "outputs": [
    {
     "data": {
      "text/plain": [
       "array([4.75129517e-05, 1.59962383e-05, 3.68254022e-05, 1.55782296e-05,\n",
       "       1.39529951e-05, 3.34124538e-05, 4.44432757e-05, 5.11452570e-05])"
      ]
     },
     "execution_count": 137,
     "metadata": {},
     "output_type": "execute_result"
    }
   ],
   "source": [
    "np.mean(np.abs(new_shap),axis=0)"
   ]
  },
  {
   "cell_type": "code",
   "execution_count": 138,
   "id": "97364a17-be3f-422d-af0d-c3ab9da55368",
   "metadata": {},
   "outputs": [
    {
     "data": {
      "text/plain": [
       "array([2054.94032739,  326.79036497,  234.35190874,  128.07172767,\n",
       "         88.62288633,  887.59615228, 1568.73271796, 1222.03993324])"
      ]
     },
     "execution_count": 138,
     "metadata": {},
     "output_type": "execute_result"
    }
   ],
   "source": [
    "np.sum(np.abs(shap_values['values']),axis=0)"
   ]
  },
  {
   "cell_type": "code",
   "execution_count": 70,
   "id": "2732e059-1144-4856-97e7-c83f7211dc57",
   "metadata": {},
   "outputs": [],
   "source": [
    "# shap.plots.bar(shap_values)"
   ]
  },
  {
   "cell_type": "code",
   "execution_count": 71,
   "id": "f9014758-8a61-4b92-b135-5ff6beb6b1ad",
   "metadata": {},
   "outputs": [],
   "source": [
    "# shap.plots.beeswarm(shap_values)"
   ]
  },
  {
   "cell_type": "code",
   "execution_count": null,
   "id": "f95118e7-d1de-4da2-bd88-e2155a5a1a82",
   "metadata": {},
   "outputs": [],
   "source": [
    "fig, ax = plt.subplots(1,1, figsize=(10,5))\n",
    "ax.set_title('Exact Shapley')\n",
    "# Width of each bar\n",
    "bar_width = 0.2\n",
    "\n",
    "# Calculate the positions for the bars\n",
    "pos1 = np.arange(len(feature_names))\n",
    "\n",
    "ax.barh(pos1-w, np.mean(np.abs(shap_values_lr.values),axis=0), width=1, alpha=0.2)\n",
    "ax.barh(pos1, np.sum(np.abs(new_shap),axis=0), width=1,alpha=0.5)\n",
    "ax.barh(pos1+w, np.mean(np.abs(kernelSHAP),axis=0),width=1, alpha=0.5)\n",
    "ax.set_ylabel(feature_names)\n",
    "ax.set_title('Minipatch Shapley B = {}'.format(B))\n",
    "ax.legend(['Exact shapley','MP shapley', 'KernelSHAP'])\n",
    "\n",
    "\n",
    "\n",
    "plt.suptitle('Shapley values on training California housing dataset')\n",
    "plt.savefig('./figures/cal_data_shap_reg_1.svg')"
   ]
  },
  {
   "cell_type": "code",
   "execution_count": null,
   "id": "620f8508-13c0-44ae-9b52-e42c9d8aedbd",
   "metadata": {},
   "outputs": [],
   "source": [
    "# np.save('./exact_SHAP.npy', d)"
   ]
  },
  {
   "cell_type": "markdown",
   "id": "63b505e3-4465-4db6-bcc2-546f266747f4",
   "metadata": {
    "jp-MarkdownHeadingCollapsed": true
   },
   "source": [
    "### Minipatch ensemble Shapley"
   ]
  },
  {
   "cell_type": "code",
   "execution_count": 73,
   "id": "af6d10b2-e70d-4c9b-a7a4-895682f0bc47",
   "metadata": {},
   "outputs": [
    {
     "ename": "NameError",
     "evalue": "name 'X_train' is not defined",
     "output_type": "error",
     "traceback": [
      "\u001b[0;31m---------------------------------------------------------------------------\u001b[0m",
      "\u001b[0;31mNameError\u001b[0m                                 Traceback (most recent call last)",
      "Cell \u001b[0;32mIn[73], line 1\u001b[0m\n\u001b[0;32m----> 1\u001b[0m X_arr \u001b[38;5;241m=\u001b[39m np\u001b[38;5;241m.\u001b[39marray(X_train)\n",
      "\u001b[0;31mNameError\u001b[0m: name 'X_train' is not defined"
     ]
    }
   ],
   "source": [
    "X_arr = np.array(X_train)"
   ]
  },
  {
   "cell_type": "code",
   "execution_count": 74,
   "id": "5e9ab2a8-eef4-464c-ab19-0b43246ad430",
   "metadata": {},
   "outputs": [
    {
     "ename": "NameError",
     "evalue": "name 'y_train' is not defined",
     "output_type": "error",
     "traceback": [
      "\u001b[0;31m---------------------------------------------------------------------------\u001b[0m",
      "\u001b[0;31mNameError\u001b[0m                                 Traceback (most recent call last)",
      "Cell \u001b[0;32mIn[74], line 1\u001b[0m\n\u001b[0;32m----> 1\u001b[0m y_arr \u001b[38;5;241m=\u001b[39m np\u001b[38;5;241m.\u001b[39marray(y_train)\n",
      "\u001b[0;31mNameError\u001b[0m: name 'y_train' is not defined"
     ]
    }
   ],
   "source": [
    "y_arr = np.array(y_train)"
   ]
  },
  {
   "cell_type": "code",
   "execution_count": 35,
   "id": "1c82b769-b003-4fbf-aa1b-4566c17c507f",
   "metadata": {
    "editable": true,
    "slideshow": {
     "slide_type": ""
    },
    "tags": []
   },
   "outputs": [],
   "source": [
    "def get_minipatch(X_arr,y_arr, x_ratio=0.02):\n",
    "    N = len(X_arr)\n",
    "    M = len(X_arr[0])\n",
    "    assert int(np.round(x_ratio * N)) > M # verify that enough observations are sampled\n",
    "    \n",
    "    # get a random feature size\n",
    "    m =  np.random.choice([i for i in range(1,M)])\n",
    "    n = int(np.round(x_ratio * N))\n",
    "    \n",
    "    r = np.random.RandomState()\n",
    "    ## index of minipatch\n",
    "    idx_I = np.sort(r.choice(N, size=n, replace=False)) # uniform sampling of subset of observations\n",
    "    idx_F = np.sort(r.choice(M, size=m, replace=False)) # uniform sampling of subset of features\n",
    "    ## record which obs/features are subsampled \n",
    "    x_mp = X_arr[np.ix_(idx_I, idx_F)]\n",
    "    y_mp = y_arr[np.ix_(idx_I)]\n",
    "    return x_mp, y_mp, idx_I, idx_F\n"
   ]
  },
  {
   "cell_type": "code",
   "execution_count": 169,
   "id": "63c16057-eca1-4bd1-b8f2-999bd257d6e7",
   "metadata": {},
   "outputs": [
    {
     "data": {
      "text/plain": [
       "(330, 2)"
      ]
     },
     "execution_count": 169,
     "metadata": {},
     "output_type": "execute_result"
    }
   ],
   "source": [
    "get_minipatch(X_arr,y_arr)[0].shape"
   ]
  },
  {
   "cell_type": "code",
   "execution_count": 107,
   "id": "be8e876f-8c65-46ac-a2cd-2049c4dff1ce",
   "metadata": {
    "editable": true,
    "slideshow": {
     "slide_type": ""
    },
    "tags": []
   },
   "outputs": [],
   "source": [
    "def minipatch_regression(X_arr, y_arr, Xi, model, x_ratio, B=1000, plot_prop=False):\n",
    "    pred = []\n",
    "    mp_feat_size = []\n",
    "    N = X_arr.shape[0]\n",
    "    M = X_arr.shape[1]\n",
    "    in_mp_obs, in_mp_feature = np.zeros((B,N),dtype=bool),np.zeros((B,M),dtype=bool)\n",
    "    for b in range(B):  \n",
    "        x_mp, y_mp, idx_I, idx_F = get_minipatch(X_arr, y_arr, x_ratio)\n",
    "        mp_feat_size.append(len(idx_F))\n",
    "        model.fit(x_mp, y_mp)\n",
    "        pred.append(pd.DataFrame(model.predict(np.array(Xi)[:, idx_F])))\n",
    "        in_mp_obs[b,idx_I] = True # minipatch b \n",
    "        in_mp_feature[b,idx_F] = True\n",
    "    if plot_prop:\n",
    "        plt.hist(mp_feat_size)\n",
    "        plt.suptitle('Minipatch length histogram')\n",
    "    \n",
    "    return [np.array(pred),in_mp_obs,in_mp_feature]"
   ]
  },
  {
   "cell_type": "code",
   "execution_count": 170,
   "id": "3a218d9b-bc85-46df-95de-d6574e2ac38e",
   "metadata": {
    "scrolled": true
   },
   "outputs": [
    {
     "data": {
      "image/png": "[encoded data removed]",
      "text/plain": [
       "<Figure size 640x480 with 1 Axes>"
      ]
     },
     "metadata": {},
     "output_type": "display_data"
    }
   ],
   "source": [
    "res = minipatch_regression(X_arr, y_arr, X_test, model, 0.02, B=10000, plot_prop=True)"
   ]
  },
  {
   "cell_type": "code",
   "execution_count": 109,
   "id": "e12fe623-b801-4679-b859-9ae821c2b767",
   "metadata": {
    "editable": true,
    "slideshow": {
     "slide_type": ""
    },
    "tags": []
   },
   "outputs": [],
   "source": [
    "def visualise_minipatch(in_mp_obs, in_mp_feature, color_palette = palette, type='sorted'):\n",
    "    \n",
    "    B = in_mp_obs.shape[0]\n",
    "    matrix = np.zeros((in_mp_obs.shape[1],in_mp_feature.shape[1]))\n",
    "    for i in range(B):\n",
    "        matrix += (in_mp_obs[i][:, np.newaxis] & in_mp_feature[i]).astype(int)\n",
    "    df = pd.DataFrame(matrix, columns = X.columns)\n",
    "    if type =='sorted':\n",
    "        sns.heatmap(df[df.mean().sort_values().index].sort_values(by=df[df.mean().sort_values().index].columns[-1], axis=0), cmap=palette)\n",
    "    else:\n",
    "        sns.heatmap(df, cmap=palette)\n",
    "    plt.title('Patch selection frequency')\n",
    "    "
   ]
  },
  {
   "cell_type": "code",
   "execution_count": 110,
   "id": "20614ec6-42bf-45bb-ae5d-f18da94d62fb",
   "metadata": {},
   "outputs": [],
   "source": [
    "pred, in_mp_obs, in_mp_feature = res"
   ]
  },
  {
   "cell_type": "code",
   "execution_count": 111,
   "id": "5bfb506c-1f34-46d3-9cec-36652c074ceb",
   "metadata": {},
   "outputs": [
    {
     "data": {
      "image/png": "[encoded data removed]",
      "text/plain": [
       "<Figure size 640x480 with 2 Axes>"
      ]
     },
     "metadata": {},
     "output_type": "display_data"
    }
   ],
   "source": [
    "visualise_minipatch(in_mp_obs, in_mp_feature, type='sorted')"
   ]
  },
  {
   "cell_type": "code",
   "execution_count": 130,
   "id": "e3f76a23-5144-434c-aaac-d3ea31652536",
   "metadata": {},
   "outputs": [
    {
     "data": {
      "text/plain": [
       "(10000, 4128, 1)"
      ]
     },
     "execution_count": 130,
     "metadata": {},
     "output_type": "execute_result"
    }
   ],
   "source": [
    "pred.shape"
   ]
  },
  {
   "cell_type": "code",
   "execution_count": 159,
   "id": "dce1b4df-52d6-4d26-8bb3-54e5153b9b1f",
   "metadata": {
    "editable": true,
    "slideshow": {
     "slide_type": ""
    },
    "tags": []
   },
   "outputs": [],
   "source": [
    "\n",
    "target_feature = 2\n",
    "def naive_shapley_mp(target_feature, res):\n",
    "    pred, in_mp_obs, in_mp_feature = res\n",
    "    d = len(in_mp_feature[0])\n",
    "    m = np.sum(in_mp_feature,axis=1)[0]\n",
    "    n = np.sum(in_mp_obs, axis=1)[0]\n",
    "    all_features = [list(combinations(set([i for i in range(d)]),j)) for j in range(1,d)] # list of all subsets possible of features\n",
    "    # all_features[i] contains list of all i-uplet of combinations of features\n",
    "    features_target = [[combo for combo in all_features[i] if target_feature not in combo] for i in range(len(all_features))] # exclude target feature\n",
    "    diff = []\n",
    "    for i in range(len(features_target)):\n",
    "        for j in range(len(features_target[i])):\n",
    "        \n",
    "            val_diff = np.zeros(pred.shape[1])\n",
    "            feature_subset = features_target[i][j]\n",
    "            target_indices = np.where(in_mp_feature[:,target_feature])[0] # Get the indices of the rows where the target column is True\n",
    "            \n",
    "            oh = np.zeros(d, dtype=bool)\n",
    "            oh[[feature_subset]] = True # one hot feature subset\n",
    "            oh_j = np.zeros(d, dtype=bool)\n",
    "            l = list(feature_subset)\n",
    "            l.append(target_feature)\n",
    "            oh_j[[l]] = True # one hot feature subset + target\n",
    "            \n",
    "            mask = np.all(in_mp_feature == oh, axis=1) # mask the feature subset \n",
    "            right_indices = np.where(mask)[0] # find matching indices of mask \n",
    "            mask_j = np.all(in_mp_feature == oh_j, axis=1) # mask the feature subset + target\n",
    "            left_indices = np.where(mask_j)[0] \n",
    "            \n",
    "            if (len(left_indices) ==0) or (len(right_indices)==0) :\n",
    "                pass\n",
    "            else:\n",
    "                augmented_pred = pred[list(left_indices),:,0]\n",
    "                # augmented_idx = in_mp_obs[list(left_indices),:]\n",
    "                selected_pred = pred[list(right_indices),:,0]\n",
    "                # selected_idx = in_mp_obs[list(right_indices),:]\n",
    "                phi_right = np.mean(selected_pred) # np.mean(np.array([selected_pred[i,:][selected_idx[i,:]] for i in range(selected_idx.shape[0])]),axis=0)\n",
    "                phi_left = np.mean(augmented_pred) # np.mean(np.array([augmented_pred[i,:][augmented_idx[i,:]] for i in range(augmented_idx.shape[0])]),axis=0)\n",
    "                                         \n",
    "                val_diff += phi_left - phi_right\n",
    "        diff.append(1/binom(d-1,len(feature_subset)) * val_diff)\n",
    "    shapley_j = 1/d*sum(diff)\n",
    "\n",
    "    return shapley_j \n"
   ]
  },
  {
   "cell_type": "code",
   "execution_count": 140,
   "id": "ad01fb5a-2a30-449c-84f7-606a7345bbe5",
   "metadata": {
    "editable": true,
    "slideshow": {
     "slide_type": ""
    },
    "tags": []
   },
   "outputs": [],
   "source": [
    "def mp_shapley(Xi, res):\n",
    "    new_shap = np.zeros((Xi.shape))\n",
    "    for i in range(Xi.shape[1]): \n",
    "        new_shap[:,i] = shapley_mp(i, res)\n",
    "    return new_shap"
   ]
  },
  {
   "cell_type": "markdown",
   "id": "f5d6074c-6d40-4717-aec3-2e7c770804c5",
   "metadata": {},
   "source": [
    "Using minipatch to ensemble shapley for subset $u \\subset \\{1, \\dots, d\\}$.\n",
    "$$\\hat{\\phi}_{j} = \\frac{1}{d} \\sum_{u \\subset [d]\\setminus\\{j\\}} {{d-1}\\choose{|u|}}^{-1} \\bigg( \\frac{1}{K} \\sum_{k:(I_k,F_k): F_k=u\\cup\\{j\\} } \\hat{f}_{X_{I_k,F_k},Y_{I_k}}(X_{F_k}) - \\sum_{k:(I_k,F_k'): F_{k}^{'} = u} \\frac{1}{\\sum_k I(j \\notin F_{k}^{'})} \\hat{f}(X_{F_k}^{'})\\bigg)$$"
   ]
  },
  {
   "cell_type": "markdown",
   "id": "a8bf558f-920d-405f-9614-2fe76a8d5ae1",
   "metadata": {},
   "source": []
  },
  {
   "cell_type": "code",
   "execution_count": 53,
   "id": "d36c02c5-6255-4657-aa6f-ece34d4abd57",
   "metadata": {
    "editable": true,
    "slideshow": {
     "slide_type": ""
    },
    "tags": []
   },
   "outputs": [
    {
     "ename": "ValueError",
     "evalue": "too many values to unpack (expected 3)",
     "output_type": "error",
     "traceback": [
      "\u001b[0;31m---------------------------------------------------------------------------\u001b[0m",
      "\u001b[0;31mValueError\u001b[0m                                Traceback (most recent call last)",
      "Cell \u001b[0;32mIn[53], line 1\u001b[0m\n\u001b[0;32m----> 1\u001b[0m pred, in_mp_obs, in_mp_feature \u001b[38;5;241m=\u001b[39m res\n\u001b[1;32m      2\u001b[0m all_features \u001b[38;5;241m=\u001b[39m np\u001b[38;5;241m.\u001b[39munique(in_mp_feature,axis\u001b[38;5;241m=\u001b[39m\u001b[38;5;241m0\u001b[39m) \u001b[38;5;66;03m# get all features sampled in MPs\u001b[39;00m\n\u001b[1;32m      3\u001b[0m \u001b[38;5;28mprint\u001b[39m(all_features\u001b[38;5;241m.\u001b[39mshape[\u001b[38;5;241m0\u001b[39m])\n",
      "\u001b[0;31mValueError\u001b[0m: too many values to unpack (expected 3)"
     ]
    }
   ],
   "source": [
    "pred, in_mp_obs, in_mp_feature = res\n",
    "all_features = np.unique(in_mp_feature,axis=0) # get all features sampled in MPs\n",
    "print(all_features.shape[0])"
   ]
  },
  {
   "cell_type": "code",
   "execution_count": 54,
   "id": "a305ec6a-db8f-410b-81ed-06b3702870c5",
   "metadata": {
    "editable": true,
    "slideshow": {
     "slide_type": ""
    },
    "tags": []
   },
   "outputs": [
    {
     "ename": "NameError",
     "evalue": "name 'X_arr' is not defined",
     "output_type": "error",
     "traceback": [
      "\u001b[0;31m---------------------------------------------------------------------------\u001b[0m",
      "\u001b[0;31mNameError\u001b[0m                                 Traceback (most recent call last)",
      "Cell \u001b[0;32mIn[54], line 2\u001b[0m\n\u001b[1;32m      1\u001b[0m \u001b[38;5;66;03m# for each minipatch, set last observation to test set \u001b[39;00m\n\u001b[0;32m----> 2\u001b[0m x_mp, y_mp, idx_I, idx_F \u001b[38;5;241m=\u001b[39m get_minipatch(X_arr, y_arr, \u001b[38;5;241m0.4\u001b[39m)\n\u001b[1;32m      3\u001b[0m x_mp[:\u001b[38;5;241m-\u001b[39m\u001b[38;5;241m1\u001b[39m,:]\u001b[38;5;241m.\u001b[39mshape, y_mp\u001b[38;5;241m.\u001b[39mshape, x_mp[\u001b[38;5;241m-\u001b[39m\u001b[38;5;241m1\u001b[39m,:]\n",
      "\u001b[0;31mNameError\u001b[0m: name 'X_arr' is not defined"
     ]
    }
   ],
   "source": [
    "# for each minipatch, set last observation to test set \n",
    "x_mp, y_mp, idx_I, idx_F = get_minipatch(X_arr, y_arr, 0.4)\n",
    "x_mp[:-1,:].shape, y_mp.shape, x_mp[-1,:]"
   ]
  },
  {
   "cell_type": "code",
   "execution_count": 266,
   "id": "18dbebf0-14e5-44f1-a233-dfc5f03d08bc",
   "metadata": {
    "editable": true,
    "slideshow": {
     "slide_type": ""
    },
    "tags": []
   },
   "outputs": [],
   "source": [
    "def minipatch_regression_loo(X_arr, y_arr, model, x_ratio, B=1000, plot_prop=False):\n",
    "    \"\"\" Fit the minipatch ensemble estimator on the training data and predict on leave-one-out Xi\n",
    "    Input:\n",
    "        X_arr: training predictors\n",
    "        y_arr: training set response\n",
    "        Xi: test set\n",
    "        model: chosen model for regression\n",
    "        x_ratio: ratio of observation to sample from\n",
    "        B: number of replicates\n",
    "        plot_prop: if True, plots the minipatch feature coverage histogram\n",
    "    -------\n",
    "    Outputs: \n",
    "        [np.array, np.array, np.array]: prediction on test set, boolean dictionary of minipatch observations, boolean dictionary of minipatch features\n",
    "    \"\"\"\n",
    "    pred = []\n",
    "    mp_feat_size = []\n",
    "    N = X_arr.shape[0]\n",
    "    M = X_arr.shape[1]\n",
    "    in_mp_obs, in_mp_loo, in_mp_feature = np.zeros((B,N),dtype=bool), np.zeros((B,N),dtype=bool), np.zeros((B,M),dtype=bool)\n",
    "    for b in range(B):  \n",
    "        x_mp, y_mp, idx_I, idx_F = get_minipatch(X_arr, y_arr, x_ratio)\n",
    "        mp_feat_size.append(len(idx_F))\n",
    "        model.fit(x_mp[:-1,:], y_mp[:-1]) # leave-one-out\n",
    "        Xi = x_mp[-1,:]\n",
    "        pred.append(pd.DataFrame(model.predict(Xi.reshape(1,-1))))\n",
    "        in_mp_obs[b,idx_I[:-1]] = True # minipatch b train points\n",
    "        in_mp_feature[b,idx_F] = True\n",
    "        in_mp_loo[b, idx_I[-1]] = True # test point loo\n",
    "    if plot_prop:\n",
    "        plt.hist(mp_feat_size)\n",
    "        plt.suptitle('Minipatch length histogram')\n",
    "    \n",
    "    return [np.array(pred),in_mp_obs,in_mp_loo, in_mp_feature]"
   ]
  },
  {
   "cell_type": "code",
   "execution_count": 267,
   "id": "876d709c-31f7-4ea2-b6b7-0dec55faa26f",
   "metadata": {},
   "outputs": [],
   "source": [
    "res = minipatch_regression_loo(X_arr, y_arr, model, x_ratio=0.2, B=1000, plot_prop=False)"
   ]
  },
  {
   "cell_type": "code",
   "execution_count": 300,
   "id": "3a585b2f-bacc-42b1-ab8f-21c7ec5a036f",
   "metadata": {
    "editable": true,
    "slideshow": {
     "slide_type": ""
    },
    "tags": []
   },
   "outputs": [],
   "source": [
    "X_test = X_arr[np.where(in_mp_loo == True)[1],:] # from minipatch"
   ]
  },
  {
   "cell_type": "markdown",
   "id": "27631279-0324-49c4-b144-39bbdf5b067d",
   "metadata": {
    "jp-MarkdownHeadingCollapsed": true
   },
   "source": [
    "### rebuild"
   ]
  },
  {
   "cell_type": "code",
   "execution_count": 327,
   "id": "b92b8062-4cc9-4c41-8882-3f3b06933c57",
   "metadata": {
    "editable": true,
    "slideshow": {
     "slide_type": ""
    },
    "tags": []
   },
   "outputs": [],
   "source": [
    "\n",
    "def shapley_mp(target_feature, res):\n",
    "    pred, in_mp_obs, in_mp_loo, in_mp_feature = res\n",
    "    pred = np.array(pred)\n",
    "    n = np.sum(in_mp_obs, axis=1)[0]\n",
    "    all_features = np.unique(in_mp_feature,axis=0) # get all features sampled in MPs\n",
    "    # all_features is now one-hot encoding of the positions \n",
    "    features_target = all_features[np.where(all_features[:,target_feature]==False)] # ohe for the feature subsets that exclude target feature\n",
    "    dk = features_target.shape[0]\n",
    "    d = all_features.shape[0]\n",
    "    \n",
    "    diff = []\n",
    "    for row in features_target[:2]:\n",
    "        val_diff = 0 \n",
    "        row_j = row.copy()\n",
    "        row_j[target_feature] = True\n",
    "    \n",
    "        # get in in_mp_feature the corresponding elements \n",
    "        mask = np.all(in_mp_feature == row, axis=1)\n",
    "        mask_j =  np.all(in_mp_feature == row_j, axis=1)\n",
    "        if in_mp_feature[mask_j].shape[0] == 0:\n",
    "            pass\n",
    "        else:\n",
    "            mu_k = np.mean(pred[mask,:,0],axis=0)\n",
    "            mu_j = np.mean(pred[mask_j,:,0], axis=0)\n",
    "        val_diff = mu_j - mu_k\n",
    "        diff.append(dk/binom(dk-1,sum(row)) * val_diff)\n",
    "    shapley_j = sum(diff)\n",
    "    return shapley_j"
   ]
  },
  {
   "cell_type": "code",
   "execution_count": 282,
   "id": "fd0008b4-18e8-4f7d-8ffa-05c37c539832",
   "metadata": {},
   "outputs": [
    {
     "name": "stdout",
     "output_type": "stream",
     "text": [
      "mu_k:  (22, 1) Ik:  (22, 16512) Fk:  (22, 8)\n"
     ]
    }
   ],
   "source": [
    "print('mu_k: ', pred[mask,:,0].shape, 'Ik: ', in_mp_obs[mask].shape, 'Fk: ', in_mp_feature[mask].shape)"
   ]
  },
  {
   "cell_type": "code",
   "execution_count": 281,
   "id": "c6e22dd2-7055-4489-beae-f8760a383493",
   "metadata": {},
   "outputs": [
    {
     "name": "stdout",
     "output_type": "stream",
     "text": [
      "mu_k:  (4, 1) Ik:  (4, 16512) Fk:  (4, 8)\n"
     ]
    }
   ],
   "source": [
    "print('mu_k: ', pred[mask_j,:,0].shape, 'Ik: ', in_mp_obs[mask_j].shape, 'Fk: ', in_mp_feature[mask_j].shape)"
   ]
  },
  {
   "cell_type": "markdown",
   "id": "ea8f622e-f65e-4706-95b9-0eec84ac3261",
   "metadata": {
    "editable": true,
    "jp-MarkdownHeadingCollapsed": true,
    "slideshow": {
     "slide_type": ""
    },
    "tags": []
   },
   "source": [
    "### build"
   ]
  },
  {
   "cell_type": "code",
   "execution_count": 122,
   "id": "ad5a5605-ae59-4a89-8873-292a3f13148e",
   "metadata": {},
   "outputs": [
    {
     "data": {
      "text/plain": [
       "4128"
      ]
     },
     "execution_count": 122,
     "metadata": {},
     "output_type": "execute_result"
    }
   ],
   "source": [
    "X_test.shape[0]"
   ]
  },
  {
   "cell_type": "code",
   "execution_count": 125,
   "id": "654182bc-66b6-4100-ab5e-78f09099e4d9",
   "metadata": {
    "scrolled": true
   },
   "outputs": [],
   "source": [
    "Xi = X_test\n",
    "target_feature = 2\n",
    "pred, in_mp_obs, in_mp_feature = res\n",
    "d = len(in_mp_feature[0])\n",
    "pred = np.array(pred)\n",
    "n = np.sum(in_mp_obs, axis=1)[0]\n",
    "all_features = [list(combinations(set([i for i in range(d)]),j)) for j in range(1,d)] # list of all subsets possible of features\n",
    "# all_features[i] contains list of all i-uplet of combinations of features\n",
    "features_target = [[combo for combo in all_features[i] if target_feature not in combo] for i in range(len(all_features))] \n",
    "        # list of positions for the feature subsets that exclude target feature\n",
    "diff = []\n",
    "\n",
    "for i in range(len(features_target)):\n",
    "    for j in range(len(features_target[i])):\n",
    "        \n",
    "        val_diff = np.zeros(Xi.shape[0])\n",
    "        feature_subset = features_target[i][j]\n",
    "        target_indices = np.where(in_mp_feature[:,target_feature])[0] # Get the indices of the rows where the target column is True\n",
    "        \n",
    "        oh = np.zeros(d, dtype=bool)\n",
    "        oh[[feature_subset]] = True # one hot feature subset\n",
    "        oh_j = np.zeros(d, dtype=bool)\n",
    "        l = list(feature_subset)\n",
    "        l.append(target_feature)\n",
    "        oh_j[[l]] = True # one hot feature subset + target\n",
    "        \n",
    "        mask = np.all(in_mp_feature == oh, axis=1) # mask the feature subset \n",
    "        right_indices = np.where(mask)[0] # find matching indices of mask \n",
    "        mask_j = np.all(in_mp_feature == oh_j, axis=1) # mask the feature subset + target\n",
    "        left_indices = np.where(mask_j)[0] \n",
    "        if (len(left_indices) ==0) or (len(right_indices)==0) :\n",
    "            pass\n",
    "        else:\n",
    "            augmented_pred = pred[list(left_indices),:,0]\n",
    "          \n",
    "            # augmented_idx = in_mp_obs[list(left_indices),:]\n",
    "            selected_pred = pred[list(right_indices),:,0]\n",
    "\n",
    "            # selected_idx = in_mp_obs[list(right_indices),:]\n",
    "            phi_right = np.mean(selected_pred, axis=0) # np.mean(np.array([selected_pred[i,:][selected_idx[i,:]] for i in range(selected_idx.shape[0])]),axis=0)\n",
    "            phi_left = np.mean(augmented_pred, axis=0) #  np.mean(np.array([augmented_pred[i,:][augmented_idx[i,:]] for i in range(augmented_idx.shape[0])]),axis=0)\n",
    "                                         \n",
    "            val_diff += phi_left - phi_right\n",
    "    diff.append(1/binom(d-1,len(feature_subset)) * val_diff)\n",
    "shapley_j = 1/d*sum(diff)\n"
   ]
  },
  {
   "cell_type": "code",
   "execution_count": 126,
   "id": "e3650194-3a58-4ab5-a70b-ef3d58d5bb68",
   "metadata": {},
   "outputs": [
    {
     "data": {
      "text/plain": [
       "array([ 0.03627962,  0.01069462,  0.02287626, ..., -0.02753866,\n",
       "        0.02550613,  0.03425982])"
      ]
     },
     "execution_count": 126,
     "metadata": {},
     "output_type": "execute_result"
    }
   ],
   "source": [
    "shapley_j"
   ]
  },
  {
   "cell_type": "code",
   "execution_count": 90,
   "id": "946f2a0e-aaf7-485c-9676-a73940598db0",
   "metadata": {},
   "outputs": [
    {
     "data": {
      "text/plain": [
       "(330,)"
      ]
     },
     "execution_count": 90,
     "metadata": {},
     "output_type": "execute_result"
    }
   ],
   "source": [
    "np.mean(np.array([selected_pred[i,:][selected_idx[i,:]] for i in range(selected_idx.shape[0])]),axis=0).shape"
   ]
  },
  {
   "cell_type": "code",
   "execution_count": 67,
   "id": "ee44ec7f-36ed-452a-b173-b252d5aa2209",
   "metadata": {},
   "outputs": [],
   "source": [
    "i = 0\n",
    "j = 1\n",
    "val_diff = 0 \n",
    "feature_subset = features_target[i][j]\n",
    "target_indices = np.where(in_mp_feature[:,target_feature])[0] # Get the indices of the rows where the target column is True\n",
    "# print(d)\n",
    "oh = np.zeros(d, dtype=bool)\n",
    "oh[[feature_subset]] = True # one hot feature subset\n",
    "oh_j = np.zeros(d, dtype=bool)\n",
    "l = list(feature_subset)\n",
    "l.append(target_feature)\n",
    "oh_j[[l]] = True # one hot feature subset + target\n",
    "\n",
    "mask = np.all(in_mp_feature == oh, axis=1) # mask the feature subset \n",
    "right_indices = np.where(mask)[0] # find matching indices of mask \n",
    "mask_j = np.all(in_mp_feature == oh_j, axis=1) # mask the feature subset + target\n",
    "left_indices = np.where(mask_j)[0] \n",
    "\n",
    "augmented_pred = pred[list(left_indices),:,0]\n",
    "augmented_idx = in_mp_obs[list(left_indices),:]\n",
    "selected_pred = pred[list(right_indices),:,0]\n",
    "selected_idx = in_mp_obs[list(right_indices),:]\n",
    "phi_right = np.mean(np.array([selected_pred[i,:][selected_idx[i,:]] for i in range(selected_idx.shape[0])]),axis=0)\n",
    "phi_left = np.mean(np.array([augmented_pred[i,:][augmented_idx[i,:]] for i in range(augmented_idx.shape[0])]),axis=0)\n",
    "                             \n",
    "val_diff += phi_left - phi_right\n"
   ]
  },
  {
   "cell_type": "code",
   "execution_count": 69,
   "id": "ba04f002-3d0d-4f96-a88f-c854dd3032c7",
   "metadata": {},
   "outputs": [
    {
     "data": {
      "text/plain": [
       "(330,)"
      ]
     },
     "execution_count": 69,
     "metadata": {},
     "output_type": "execute_result"
    }
   ],
   "source": [
    "phi_left.shape"
   ]
  },
  {
   "cell_type": "code",
   "execution_count": null,
   "id": "90083939-dcfb-43ad-9e04-9e21fc152320",
   "metadata": {},
   "outputs": [],
   "source": [
    "def mp_value_holdout(feature_subset, pred, in_mp_obs, in_mp_feature, holdout_feature):\n",
    "    pred = np.array(pred)\n",
    "    feat_wo_target = in_mp_feature[~in_mp_feature[:, holdout_feature]]\n",
    "    selected = np.where(np.any(feat_wo_target[:, feature_subset], axis=1)) # gives the k that correspnod\n",
    "    # print('holdout',np.mean(pred[selected,:], axis = 1)[0].shape)\n",
    "    return np.mean(pred[selected,:], axis = 1)[0]\n",
    "    \n",
    "        "
   ]
  },
  {
   "cell_type": "code",
   "execution_count": 47,
   "id": "11884d7e-834a-46dc-974e-b252f0d0c34b",
   "metadata": {},
   "outputs": [],
   "source": [
    "def mp_value(feature_subset, pred, in_mp_obs, in_mp_feature, holdout_feature):\n",
    "    ext_subset = list(feature_subset)\n",
    "    ext_subset.append(holdout_feature)\n",
    "    pred, in_mp_obs, in_mp_feature = res \n",
    "    pred = np.array(pred)\n",
    "    selected = np.where(np.any(in_mp_feature[:, ext_subset], axis=1))\n",
    "    # print('full',np.mean(pred[selected,:], axis = 1)[0].shape)\n",
    "    return np.mean(pred[selected,:], axis = 1)[0]\n",
    "    \n",
    "    "
   ]
  },
  {
   "cell_type": "markdown",
   "id": "5e128b65-03de-4fab-ab92-6620beaf6ead",
   "metadata": {
    "jp-MarkdownHeadingCollapsed": true
   },
   "source": [
    "### Continue"
   ]
  },
  {
   "cell_type": "code",
   "execution_count": 331,
   "id": "7897f08a-4e65-4db4-b331-55a1093b0c1f",
   "metadata": {},
   "outputs": [],
   "source": [
    "new_shap = np.zeros((X_test.shape))\n",
    "for i in range((X_test).shape[1]): \n",
    "    new_shap[:,i] = shapley_mp(i, res)"
   ]
  },
  {
   "cell_type": "code",
   "execution_count": 336,
   "id": "14588327-79fc-4ed3-a8a6-3ca46ad70bff",
   "metadata": {},
   "outputs": [
    {
     "data": {
      "text/plain": [
       "Text(0.5, 1.0, 'Exact Shapley')"
      ]
     },
     "execution_count": 336,
     "metadata": {},
     "output_type": "execute_result"
    },
    {
     "data": {
      "image/png": "[encoded data removed]",
      "text/plain": [
       "<Figure size 1000x500 with 2 Axes>"
      ]
     },
     "metadata": {},
     "output_type": "display_data"
    }
   ],
   "source": [
    "x_ratio=0.4\n",
    "fig, ax = plt.subplots(1,2, figsize=(10,5))\n",
    "ax[0].barh(X.columns, np.mean(np.abs(new_shap),axis=0))\n",
    "ax[0].set_title('Minipatch Shapley, r={}'.format(x_ratio))\n",
    "ax[1].barh(X.columns, np.mean(np.abs(shap_values_lr.values),axis=0))\n",
    "ax[1].set_title('Exact Shapley')"
   ]
  },
  {
   "cell_type": "code",
   "execution_count": 142,
   "id": "53b5a149-81b9-4419-ac22-f20576cec666",
   "metadata": {},
   "outputs": [],
   "source": [
    "res = minipatch_regression(X_arr, y_arr, X_test, model, 0.2, 100)\n",
    "shap100 = mp_shapley(X_test, res)"
   ]
  },
  {
   "cell_type": "code",
   "execution_count": 340,
   "id": "26636f1e-7757-40e4-b453-233687c6b424",
   "metadata": {},
   "outputs": [
    {
     "ename": "NameError",
     "evalue": "name 'new_shap_lr' is not defined",
     "output_type": "error",
     "traceback": [
      "\u001b[0;31m---------------------------------------------------------------------------\u001b[0m",
      "\u001b[0;31mNameError\u001b[0m                                 Traceback (most recent call last)",
      "Cell \u001b[0;32mIn[340], line 2\u001b[0m\n\u001b[1;32m      1\u001b[0m fig, ax \u001b[38;5;241m=\u001b[39m plt\u001b[38;5;241m.\u001b[39msubplots(\u001b[38;5;241m1\u001b[39m,\u001b[38;5;241m2\u001b[39m, figsize\u001b[38;5;241m=\u001b[39m(\u001b[38;5;241m10\u001b[39m,\u001b[38;5;241m5\u001b[39m))\n\u001b[0;32m----> 2\u001b[0m ax[\u001b[38;5;241m0\u001b[39m]\u001b[38;5;241m.\u001b[39mbarh(X\u001b[38;5;241m.\u001b[39mcolumns, np\u001b[38;5;241m.\u001b[39mmean(np\u001b[38;5;241m.\u001b[39mabs(new_shap_lr),axis\u001b[38;5;241m=\u001b[39m\u001b[38;5;241m0\u001b[39m))\n\u001b[1;32m      3\u001b[0m ax[\u001b[38;5;241m0\u001b[39m]\u001b[38;5;241m.\u001b[39mset_title(\u001b[38;5;124m'\u001b[39m\u001b[38;5;124mMinipatch Shapley, r=0.2\u001b[39m\u001b[38;5;124m'\u001b[39m)\n\u001b[1;32m      4\u001b[0m ax[\u001b[38;5;241m1\u001b[39m]\u001b[38;5;241m.\u001b[39mbarh(X\u001b[38;5;241m.\u001b[39mcolumns, np\u001b[38;5;241m.\u001b[39mmean(np\u001b[38;5;241m.\u001b[39mabs(shap_values_lr\u001b[38;5;241m.\u001b[39mvalues),axis\u001b[38;5;241m=\u001b[39m\u001b[38;5;241m0\u001b[39m))\n",
      "\u001b[0;31mNameError\u001b[0m: name 'new_shap_lr' is not defined"
     ]
    },
    {
     "data": {
      "image/png": "[encoded data removed]",
      "text/plain": [
       "<Figure size 1000x500 with 2 Axes>"
      ]
     },
     "metadata": {},
     "output_type": "display_data"
    }
   ],
   "source": [
    "fig, ax = plt.subplots(1,2, figsize=(10,5))\n",
    "ax[0].barh(X.columns, np.mean(np.abs(new_shap_lr),axis=0))\n",
    "ax[0].set_title('Minipatch Shapley, r=0.2')\n",
    "ax[1].barh(X.columns, np.mean(np.abs(shap_values_lr.values),axis=0))\n",
    "ax[1].set_title('Exact Shapley')"
   ]
  },
  {
   "cell_type": "markdown",
   "id": "7a6d45b0-e099-40df-a647-a2387d52c7db",
   "metadata": {},
   "source": [
    "### Experiments \n",
    "Run with different ratios for sampling ? different number of patches?"
   ]
  },
  {
   "cell_type": "code",
   "execution_count": 7,
   "id": "74f8b894-2454-409d-b0ff-040d0e764c9c",
   "metadata": {},
   "outputs": [
    {
     "name": "stdout",
     "output_type": "stream",
     "text": [
      "Help on function get_minipatch in module shapley_compute.minipatches:\n",
      "\n",
      "get_minipatch(X_arr, y_arr, x_ratio=0.02, seed=None)\n",
      "    Generate a minipatch from a dataset with covariates X, with obs size controled by ratio parameters\n",
      "    Input: \n",
      "        X_arr\n",
      "        y_arr\n",
      "        x_ratio\n",
      "    -------\n",
      "    Outputs: \n",
      "        x_mp\n",
      "        y_mp\n",
      "        idx_I\n",
      "        idx_F\n",
      "\n"
     ]
    }
   ],
   "source": [
    "help(get_minipatch)"
   ]
  },
  {
   "cell_type": "code",
   "execution_count": 37,
   "id": "bb77e2e1-693c-40ae-a6dc-fd0cd8da3c98",
   "metadata": {},
   "outputs": [],
   "source": [
    "feature_names = X.columns\n",
    "X = np.array(X)\n",
    "y = np.array(y)"
   ]
  },
  {
   "cell_type": "code",
   "execution_count": 21,
   "id": "8b65f80f-5c35-4d3a-b4da-859899e1236b",
   "metadata": {},
   "outputs": [
    {
     "data": {
      "text/plain": [
       "(20640, 8)"
      ]
     },
     "execution_count": 21,
     "metadata": {},
     "output_type": "execute_result"
    }
   ],
   "source": [
    "res["
   ]
  },
  {
   "cell_type": "code",
   "execution_count": 22,
   "id": "142838d2-8201-4685-acac-1c52b6f196c2",
   "metadata": {},
   "outputs": [
    {
     "data": {
      "text/plain": [
       "(41278000, 8)"
      ]
     },
     "execution_count": 22,
     "metadata": {},
     "output_type": "execute_result"
    }
   ],
   "source": [
    "X[np.where(res[2] == False)[1],:].shape"
   ]
  },
  {
   "cell_type": "code",
   "execution_count": 52,
   "id": "bbd180f1-4f73-40a5-8d09-17fb81ce8626",
   "metadata": {
    "editable": true,
    "slideshow": {
     "slide_type": ""
    },
    "tags": []
   },
   "outputs": [
    {
     "name": "stdout",
     "output_type": "stream",
     "text": [
      "Unexpected exception formatting exception. Falling back to standard exception\n"
     ]
    },
    {
     "name": "stderr",
     "output_type": "stream",
     "text": [
      "Traceback (most recent call last):\n",
      "  File \"/Users/clairehe/anaconda3/envs/mpshapley/lib/python3.11/site-packages/pandas/core/indexes/base.py\", line 3805, in get_loc\n",
      "    return self._engine.get_loc(casted_key)\n",
      "           ^^^^^^^^^^^^^^^^^^^^^^^^^^^^^^^^\n",
      "  File \"index.pyx\", line 167, in pandas._libs.index.IndexEngine.get_loc\n",
      "  File \"index.pyx\", line 173, in pandas._libs.index.IndexEngine.get_loc\n",
      "TypeError: '(array([[    4],\n",
      "       [    6],\n",
      "       [    7],\n",
      "       ...,\n",
      "       [20621],\n",
      "       [20624],\n",
      "       [20629]]), array([[0, 2, 3, 4, 6]]))' is an invalid key\n",
      "\n",
      "During handling of the above exception, another exception occurred:\n",
      "\n",
      "Traceback (most recent call last):\n",
      "  File \"/Users/clairehe/anaconda3/envs/mpshapley/lib/python3.11/site-packages/IPython/core/interactiveshell.py\", line 3553, in run_code\n",
      "    exec(code_obj, self.user_global_ns, self.user_ns)\n",
      "  File \"/var/folders/r4/_v5hj9j14b53twvkrltmh9vh0000gn/T/ipykernel_21302/336516647.py\", line 1, in <module>\n",
      "    res =  minipatch_regression_loo(X, y, model, 0.2, 2000, r=1)\n",
      "           ^^^^^^^^^^^^^^^^^^^^^^^^^^^^^^^^^^^^^^^^^^^^^^^^^^^^^\n",
      "  File \"/Users/clairehe/Documents/GitHub/ShapleyMP/shapley_compute/minipatches.py\", line 111, in minipatch_regression_loo\n",
      "  File \"/Users/clairehe/Documents/GitHub/ShapleyMP/shapley_compute/minipatches.py\", line 55, in get_minipatch\n",
      "    x_mp = X_arr[np.ix_(idx_I, idx_F)]\n",
      "           ~~~~~^^^^^^^^^^^^^^^^^^^^^^\n",
      "  File \"/Users/clairehe/anaconda3/envs/mpshapley/lib/python3.11/site-packages/pandas/core/frame.py\", line 4090, in __getitem__\n",
      "    indexer = self.columns.get_loc(key)\n",
      "              ^^^^^^^^^^^^^^^^^^^^^^^^^\n",
      "  File \"/Users/clairehe/anaconda3/envs/mpshapley/lib/python3.11/site-packages/pandas/core/indexes/base.py\", line 3817, in get_loc\n",
      "    self._check_indexing_error(key)\n",
      "  File \"/Users/clairehe/anaconda3/envs/mpshapley/lib/python3.11/site-packages/pandas/core/indexes/base.py\", line 6059, in _check_indexing_error\n",
      "    raise InvalidIndexError(key)\n",
      "pandas.errors.InvalidIndexError: (array([[    4],\n",
      "       [    6],\n",
      "       [    7],\n",
      "       ...,\n",
      "       [20621],\n",
      "       [20624],\n",
      "       [20629]]), array([[0, 2, 3, 4, 6]]))\n",
      "\n",
      "During handling of the above exception, another exception occurred:\n",
      "\n",
      "Traceback (most recent call last):\n",
      "  File \"/Users/clairehe/anaconda3/envs/mpshapley/lib/python3.11/site-packages/IPython/core/interactiveshell.py\", line 2144, in showtraceback\n",
      "    stb = self.InteractiveTB.structured_traceback(\n",
      "          ^^^^^^^^^^^^^^^^^^^^^^^^^^^^^^^^^^^^^^^^\n",
      "  File \"/Users/clairehe/anaconda3/envs/mpshapley/lib/python3.11/site-packages/IPython/core/ultratb.py\", line 1435, in structured_traceback\n",
      "    return FormattedTB.structured_traceback(\n",
      "           ^^^^^^^^^^^^^^^^^^^^^^^^^^^^^^^^^\n",
      "  File \"/Users/clairehe/anaconda3/envs/mpshapley/lib/python3.11/site-packages/IPython/core/ultratb.py\", line 1326, in structured_traceback\n",
      "    return VerboseTB.structured_traceback(\n",
      "           ^^^^^^^^^^^^^^^^^^^^^^^^^^^^^^^\n",
      "  File \"/Users/clairehe/anaconda3/envs/mpshapley/lib/python3.11/site-packages/IPython/core/ultratb.py\", line 1173, in structured_traceback\n",
      "    formatted_exception = self.format_exception_as_a_whole(etype, evalue, etb, number_of_lines_of_context,\n",
      "                          ^^^^^^^^^^^^^^^^^^^^^^^^^^^^^^^^^^^^^^^^^^^^^^^^^^^^^^^^^^^^^^^^^^^^^^^^^^^^^^^^\n",
      "  File \"/Users/clairehe/anaconda3/envs/mpshapley/lib/python3.11/site-packages/IPython/core/ultratb.py\", line 1088, in format_exception_as_a_whole\n",
      "    frames.append(self.format_record(record))\n",
      "                  ^^^^^^^^^^^^^^^^^^^^^^^^^^\n",
      "  File \"/Users/clairehe/anaconda3/envs/mpshapley/lib/python3.11/site-packages/IPython/core/ultratb.py\", line 970, in format_record\n",
      "    frame_info.lines, Colors, self.has_colors, lvals\n",
      "    ^^^^^^^^^^^^^^^^\n",
      "  File \"/Users/clairehe/anaconda3/envs/mpshapley/lib/python3.11/site-packages/IPython/core/ultratb.py\", line 792, in lines\n",
      "    return self._sd.lines\n",
      "           ^^^^^^^^^^^^^^\n",
      "  File \"/Users/clairehe/anaconda3/envs/mpshapley/lib/python3.11/site-packages/stack_data/utils.py\", line 145, in cached_property_wrapper\n",
      "    value = obj.__dict__[self.func.__name__] = self.func(obj)\n",
      "                                               ^^^^^^^^^^^^^^\n",
      "  File \"/Users/clairehe/anaconda3/envs/mpshapley/lib/python3.11/site-packages/stack_data/core.py\", line 698, in lines\n",
      "    pieces = self.included_pieces\n",
      "             ^^^^^^^^^^^^^^^^^^^^\n",
      "  File \"/Users/clairehe/anaconda3/envs/mpshapley/lib/python3.11/site-packages/stack_data/utils.py\", line 145, in cached_property_wrapper\n",
      "    value = obj.__dict__[self.func.__name__] = self.func(obj)\n",
      "                                               ^^^^^^^^^^^^^^\n",
      "  File \"/Users/clairehe/anaconda3/envs/mpshapley/lib/python3.11/site-packages/stack_data/core.py\", line 649, in included_pieces\n",
      "    pos = scope_pieces.index(self.executing_piece)\n",
      "                             ^^^^^^^^^^^^^^^^^^^^\n",
      "  File \"/Users/clairehe/anaconda3/envs/mpshapley/lib/python3.11/site-packages/stack_data/utils.py\", line 145, in cached_property_wrapper\n",
      "    value = obj.__dict__[self.func.__name__] = self.func(obj)\n",
      "                                               ^^^^^^^^^^^^^^\n",
      "  File \"/Users/clairehe/anaconda3/envs/mpshapley/lib/python3.11/site-packages/stack_data/core.py\", line 628, in executing_piece\n",
      "    return only(\n",
      "           ^^^^^\n",
      "  File \"/Users/clairehe/anaconda3/envs/mpshapley/lib/python3.11/site-packages/executing/executing.py\", line 164, in only\n",
      "    raise NotOneValueFound('Expected one value, found 0')\n",
      "executing.executing.NotOneValueFound: Expected one value, found 0\n"
     ]
    }
   ],
   "source": [
    "res =  minipatch_regression_loo(X, y, model, 0.2, 2000, r=1)\n",
    "model.fit(X[np.unique(np.where(res[2] == False)[1]),:] ,np.array(y)[np.unique(np.where(res[2] == False)[1])] )\n",
    "X_test = X[np.unique(np.where(res[2] == True)[1]),:] \n",
    "explainer = shap.Explainer(model.predict, X_test)\n",
    "# Calculates the SHAP values - It takes some time"
   ]
  },
  {
   "cell_type": "code",
   "execution_count": null,
   "id": "c91f2167-63c2-410a-85ae-8b646bfd3274",
   "metadata": {},
   "outputs": [],
   "source": [
    "shap_exact = explainer(X_test)"
   ]
  },
  {
   "cell_type": "code",
   "execution_count": 50,
   "id": "8acb65e6-1605-41ca-9a8f-70b6d0a1641e",
   "metadata": {
    "editable": true,
    "scrolled": true,
    "slideshow": {
     "slide_type": ""
    },
    "tags": []
   },
   "outputs": [
    {
     "name": "stdout",
     "output_type": "stream",
     "text": [
      "Unexpected exception formatting exception. Falling back to standard exception\n"
     ]
    },
    {
     "name": "stderr",
     "output_type": "stream",
     "text": [
      "Traceback (most recent call last):\n",
      "  File \"/Users/clairehe/anaconda3/envs/mpshapley/lib/python3.11/site-packages/pandas/core/indexes/base.py\", line 3805, in get_loc\n",
      "    return self._engine.get_loc(casted_key)\n",
      "           ^^^^^^^^^^^^^^^^^^^^^^^^^^^^^^^^\n",
      "  File \"index.pyx\", line 167, in pandas._libs.index.IndexEngine.get_loc\n",
      "  File \"index.pyx\", line 173, in pandas._libs.index.IndexEngine.get_loc\n",
      "TypeError: '(array([[    2],\n",
      "       [    5],\n",
      "       [   19],\n",
      "       ...,\n",
      "       [20609],\n",
      "       [20622],\n",
      "       [20629]]), array([[1, 2, 3, 4, 5, 6, 7]]))' is an invalid key\n",
      "\n",
      "During handling of the above exception, another exception occurred:\n",
      "\n",
      "Traceback (most recent call last):\n",
      "  File \"/Users/clairehe/anaconda3/envs/mpshapley/lib/python3.11/site-packages/IPython/core/interactiveshell.py\", line 3553, in run_code\n",
      "    exec(code_obj, self.user_global_ns, self.user_ns)\n",
      "  File \"/var/folders/r4/_v5hj9j14b53twvkrltmh9vh0000gn/T/ipykernel_21302/2751101826.py\", line 6, in <module>\n",
      "    res = minipatch_regression_loo(X, y, model, ratio[i], 2000, 111+i)\n",
      "          ^^^^^^^^^^^^^^^^^^^^^^^^^^^^^^^^^^^^^^^^^^^^^^^^^^^^^^^^^^^^\n",
      "  File \"/Users/clairehe/Documents/GitHub/ShapleyMP/shapley_compute/minipatches.py\", line 111, in minipatch_regression_loo\n",
      "  File \"/Users/clairehe/Documents/GitHub/ShapleyMP/shapley_compute/minipatches.py\", line 55, in get_minipatch\n",
      "    x_mp = X_arr[np.ix_(idx_I, idx_F)]\n",
      "           ~~~~~^^^^^^^^^^^^^^^^^^^^^^\n",
      "  File \"/Users/clairehe/anaconda3/envs/mpshapley/lib/python3.11/site-packages/pandas/core/frame.py\", line 4090, in __getitem__\n",
      "    indexer = self.columns.get_loc(key)\n",
      "              ^^^^^^^^^^^^^^^^^^^^^^^^^\n",
      "  File \"/Users/clairehe/anaconda3/envs/mpshapley/lib/python3.11/site-packages/pandas/core/indexes/base.py\", line 3817, in get_loc\n",
      "    self._check_indexing_error(key)\n",
      "  File \"/Users/clairehe/anaconda3/envs/mpshapley/lib/python3.11/site-packages/pandas/core/indexes/base.py\", line 6059, in _check_indexing_error\n",
      "    raise InvalidIndexError(key)\n",
      "pandas.errors.InvalidIndexError: (array([[    2],\n",
      "       [    5],\n",
      "       [   19],\n",
      "       ...,\n",
      "       [20609],\n",
      "       [20622],\n",
      "       [20629]]), array([[1, 2, 3, 4, 5, 6, 7]]))\n",
      "\n",
      "During handling of the above exception, another exception occurred:\n",
      "\n",
      "Traceback (most recent call last):\n",
      "  File \"/Users/clairehe/anaconda3/envs/mpshapley/lib/python3.11/site-packages/IPython/core/interactiveshell.py\", line 2144, in showtraceback\n",
      "    stb = self.InteractiveTB.structured_traceback(\n",
      "          ^^^^^^^^^^^^^^^^^^^^^^^^^^^^^^^^^^^^^^^^\n",
      "  File \"/Users/clairehe/anaconda3/envs/mpshapley/lib/python3.11/site-packages/IPython/core/ultratb.py\", line 1435, in structured_traceback\n",
      "    return FormattedTB.structured_traceback(\n",
      "           ^^^^^^^^^^^^^^^^^^^^^^^^^^^^^^^^^\n",
      "  File \"/Users/clairehe/anaconda3/envs/mpshapley/lib/python3.11/site-packages/IPython/core/ultratb.py\", line 1326, in structured_traceback\n",
      "    return VerboseTB.structured_traceback(\n",
      "           ^^^^^^^^^^^^^^^^^^^^^^^^^^^^^^^\n",
      "  File \"/Users/clairehe/anaconda3/envs/mpshapley/lib/python3.11/site-packages/IPython/core/ultratb.py\", line 1173, in structured_traceback\n",
      "    formatted_exception = self.format_exception_as_a_whole(etype, evalue, etb, number_of_lines_of_context,\n",
      "                          ^^^^^^^^^^^^^^^^^^^^^^^^^^^^^^^^^^^^^^^^^^^^^^^^^^^^^^^^^^^^^^^^^^^^^^^^^^^^^^^^\n",
      "  File \"/Users/clairehe/anaconda3/envs/mpshapley/lib/python3.11/site-packages/IPython/core/ultratb.py\", line 1088, in format_exception_as_a_whole\n",
      "    frames.append(self.format_record(record))\n",
      "                  ^^^^^^^^^^^^^^^^^^^^^^^^^^\n",
      "  File \"/Users/clairehe/anaconda3/envs/mpshapley/lib/python3.11/site-packages/IPython/core/ultratb.py\", line 970, in format_record\n",
      "    frame_info.lines, Colors, self.has_colors, lvals\n",
      "    ^^^^^^^^^^^^^^^^\n",
      "  File \"/Users/clairehe/anaconda3/envs/mpshapley/lib/python3.11/site-packages/IPython/core/ultratb.py\", line 792, in lines\n",
      "    return self._sd.lines\n",
      "           ^^^^^^^^^^^^^^\n",
      "  File \"/Users/clairehe/anaconda3/envs/mpshapley/lib/python3.11/site-packages/stack_data/utils.py\", line 145, in cached_property_wrapper\n",
      "    value = obj.__dict__[self.func.__name__] = self.func(obj)\n",
      "                                               ^^^^^^^^^^^^^^\n",
      "  File \"/Users/clairehe/anaconda3/envs/mpshapley/lib/python3.11/site-packages/stack_data/core.py\", line 698, in lines\n",
      "    pieces = self.included_pieces\n",
      "             ^^^^^^^^^^^^^^^^^^^^\n",
      "  File \"/Users/clairehe/anaconda3/envs/mpshapley/lib/python3.11/site-packages/stack_data/utils.py\", line 145, in cached_property_wrapper\n",
      "    value = obj.__dict__[self.func.__name__] = self.func(obj)\n",
      "                                               ^^^^^^^^^^^^^^\n",
      "  File \"/Users/clairehe/anaconda3/envs/mpshapley/lib/python3.11/site-packages/stack_data/core.py\", line 649, in included_pieces\n",
      "    pos = scope_pieces.index(self.executing_piece)\n",
      "                             ^^^^^^^^^^^^^^^^^^^^\n",
      "  File \"/Users/clairehe/anaconda3/envs/mpshapley/lib/python3.11/site-packages/stack_data/utils.py\", line 145, in cached_property_wrapper\n",
      "    value = obj.__dict__[self.func.__name__] = self.func(obj)\n",
      "                                               ^^^^^^^^^^^^^^\n",
      "  File \"/Users/clairehe/anaconda3/envs/mpshapley/lib/python3.11/site-packages/stack_data/core.py\", line 628, in executing_piece\n",
      "    return only(\n",
      "           ^^^^^\n",
      "  File \"/Users/clairehe/anaconda3/envs/mpshapley/lib/python3.11/site-packages/executing/executing.py\", line 164, in only\n",
      "    raise NotOneValueFound('Expected one value, found 0')\n",
      "executing.executing.NotOneValueFound: Expected one value, found 0\n"
     ]
    }
   ],
   "source": [
    "ratio = [0.1, 0.2, 0.5]\n",
    "shap1 = []\n",
    "shap2 = []\n",
    "shap3 = []\n",
    "for i in range(len(ratio)):\n",
    "    res = minipatch_regression_loo(X, y, model, ratio[i], 2000, 111+i)\n",
    "    shap1.append(mp_shapley(X_test, res))\n",
    "    res2 = minipatch_regression_loo(X, y, model, ratio[i], 5000, 123+i)\n",
    "    shap2.append(mp_shapley(X_test, res2))\n",
    "    res3 = minipatch_regression_loo(X, y, model, ratio[i], 10000, 222+i)\n",
    "    shap3.append(mp_shapley(X_test, res3))"
   ]
  },
  {
   "cell_type": "code",
   "execution_count": null,
   "id": "2f840de0-a57f-4435-90d9-3259c986fbce",
   "metadata": {
    "editable": true,
    "slideshow": {
     "slide_type": ""
    },
    "tags": []
   },
   "outputs": [],
   "source": [
    "fig, ax = plt.subplots(1,4, figsize=(20,10))\n",
    "ax[0].set_title('Exact Shapley')\n",
    "ax[0].barh(feature_names, np.mean(np.abs(shap_exact.values),axis=0), alpha=0.8)\n",
    "\n",
    "for i in range(1,4):\n",
    "    \n",
    "    ax[i].barh(feature_names, np.mean(np.abs(shap1[i-1]),axis=0), alpha=0.5)\n",
    "    ax[i].barh(feature_names, np.mean(np.abs(shap2[i-1]),axis=0), alpha=0.5)\n",
    "    ax[i].barh(feature_names, np.mean(np.abs(shap3[i-1]),axis=0), alpha=0.5)\n",
    "    ax[i].set_title('Minipatch Shapley r = {}'.format(ratio[i-1]))\n",
    "    ax[i].legend(['B=2000','B=5000', 'B=10000'])\n",
    "\n",
    "\n",
    "\n",
    "plt.suptitle('Shapley values on training California housing dataset')\n",
    "plt.savefig('./figures/cal_data_shap_reg_1.svg')"
   ]
  },
  {
   "cell_type": "code",
   "execution_count": 51,
   "id": "e1cf6b01-151b-4d21-97d5-3c7dc53f5edd",
   "metadata": {
    "editable": true,
    "slideshow": {
     "slide_type": ""
    },
    "tags": []
   },
   "outputs": [
    {
     "data": {
      "text/plain": [
       "[]"
      ]
     },
     "execution_count": 51,
     "metadata": {},
     "output_type": "execute_result"
    }
   ],
   "source": [
    "shap1"
   ]
  },
  {
   "cell_type": "markdown",
   "id": "fb534cc8-2cc4-4f0c-b96d-d9aeeb27ab7e",
   "metadata": {
    "editable": true,
    "jp-MarkdownHeadingCollapsed": true,
    "slideshow": {
     "slide_type": ""
    },
    "tags": []
   },
   "source": [
    "# For future revision of code"
   ]
  },
  {
   "cell_type": "code",
   "execution_count": null,
   "id": "2169d226-0a28-4d0a-a94c-f170b476e9b7",
   "metadata": {},
   "outputs": [],
   "source": [
    "# Create minipatch\n",
    "class MiniPatch_Constructor():\n",
    "    \n",
    "    @abstractmethod\n",
    "    def __init__(num_mp, num_feat, num_obs):\n",
    "        # Set parameters\n",
    "        self.num_mp = num_mp # number of minipatches\n",
    "        self.num_feat = num_feat # number of features per patch\n",
    "        self.num_obs = num_obs # number of observations per patch\n",
    "        \n",
    "    def _get_minipatch(\n",
    "        # get a minipatch of size (n, m)\n",
    "        N = len(X_arr)\n",
    "        M = len(X_arr[0])\n",
    "        n = int(np.round(0.2 * N))\n",
    "        m = int(np.round(0.2 * M))\n",
    "        r = np.random.RandomState()\n",
    "        ## index of minipatch\n",
    "        idx_I = np.sort(r.choice(N, size=n, replace=False)) # uniform sampling of subset of observations\n",
    "        idx_F = np.sort(r.choice(M, size=m, replace=False)) # uniform sampling of subset of features\n",
    "        ## record which obs/features are subsampled \n",
    "        x_mp=X_arr[np.ix_(idx_I, idx_F)]\n",
    "        y_mp=y_arr[np.ix_(idx_I)]\n",
    "\n"
   ]
  },
  {
   "cell_type": "code",
   "execution_count": null,
   "id": "c3a822ac-5114-436c-8abe-59783500a8d6",
   "metadata": {},
   "outputs": [],
   "source": [
    "# From sklearn's ensemble base method \n",
    "\n",
    "from abc import ABCMeta, abstractmethod\n",
    "from typing import List\n",
    "\n",
    "import numpy as np\n",
    "from joblib import effective_n_jobs\n",
    "\n",
    "from ..base import BaseEstimator, MetaEstimatorMixin, clone, is_classifier, is_regressor\n",
    "from ..utils import Bunch, check_random_state\n",
    "from ..utils._tags import _safe_tags\n",
    "from ..utils._user_interface import _print_elapsed_time\n",
    "from ..utils.metadata_routing import _routing_enabled\n",
    "from ..utils.metaestimators import _BaseComposition\n",
    "\n",
    "\n",
    "def _fit_single_estimator(\n",
    "    estimator, X, y, fit_params, message_clsname=None, message=None\n",
    "):\n",
    "    \"\"\"Private function used to fit an estimator within a job.\"\"\"\n",
    "    # TODO(SLEP6): remove if condition for unrouted sample_weight when metadata\n",
    "    # routing can't be disabled.\n",
    "    if not _routing_enabled() and \"sample_weight\" in fit_params:\n",
    "        try:\n",
    "            with _print_elapsed_time(message_clsname, message):\n",
    "                estimator.fit(X, y, sample_weight=fit_params[\"sample_weight\"])\n",
    "        except TypeError as exc:\n",
    "            if \"unexpected keyword argument 'sample_weight'\" in str(exc):\n",
    "                raise TypeError(\n",
    "                    \"Underlying estimator {} does not support sample weights.\".format(\n",
    "                        estimator.__class__.__name__\n",
    "                    )\n",
    "                ) from exc\n",
    "            raise\n",
    "    else:\n",
    "        with _print_elapsed_time(message_clsname, message):\n",
    "            estimator.fit(X, y, **fit_params)\n",
    "    return estimator\n",
    "\n",
    "\n",
    "def _set_random_states(estimator, random_state=None):\n",
    "    \"\"\"Set fixed random_state parameters for an estimator.\n",
    "\n",
    "    Finds all parameters ending ``random_state`` and sets them to integers\n",
    "    derived from ``random_state``.\n",
    "\n",
    "    Parameters\n",
    "    ----------\n",
    "    estimator : estimator supporting get/set_params\n",
    "        Estimator with potential randomness managed by random_state\n",
    "        parameters.\n",
    "\n",
    "    random_state : int, RandomState instance or None, default=None\n",
    "        Pseudo-random number generator to control the generation of the random\n",
    "        integers. Pass an int for reproducible output across multiple function\n",
    "        calls.\n",
    "        See :term:`Glossary <random_state>`.\n",
    "\n",
    "    Notes\n",
    "    -----\n",
    "    This does not necessarily set *all* ``random_state`` attributes that\n",
    "    control an estimator's randomness, only those accessible through\n",
    "    ``estimator.get_params()``.  ``random_state``s not controlled include\n",
    "    those belonging to:\n",
    "\n",
    "        * cross-validation splitters\n",
    "        * ``scipy.stats`` rvs\n",
    "    \"\"\"\n",
    "    random_state = check_random_state(random_state)\n",
    "    to_set = {}\n",
    "    for key in sorted(estimator.get_params(deep=True)):\n",
    "        if key == \"random_state\" or key.endswith(\"__random_state\"):\n",
    "            to_set[key] = random_state.randint(np.iinfo(np.int32).max)\n",
    "\n",
    "    if to_set:\n",
    "        estimator.set_params(**to_set)\n",
    "\n",
    "\n",
    "class BaseEnsemble(MetaEstimatorMixin, BaseEstimator, metaclass=ABCMeta):\n",
    "    \"\"\"Base class for all ensemble classes.\n",
    "\n",
    "    Warning: This class should not be used directly. Use derived classes\n",
    "    instead.\n",
    "\n",
    "    Parameters\n",
    "    ----------\n",
    "    estimator : object\n",
    "        The base estimator from which the ensemble is built.\n",
    "\n",
    "    n_estimators : int, default=10\n",
    "        The number of estimators in the ensemble.\n",
    "\n",
    "    estimator_params : list of str, default=tuple()\n",
    "        The list of attributes to use as parameters when instantiating a\n",
    "        new base estimator. If none are given, default parameters are used.\n",
    "\n",
    "    Attributes\n",
    "    ----------\n",
    "    estimator_ : estimator\n",
    "        The base estimator from which the ensemble is grown.\n",
    "\n",
    "    estimators_ : list of estimators\n",
    "        The collection of fitted base estimators.\n",
    "    \"\"\"\n",
    "\n",
    "    # overwrite _required_parameters from MetaEstimatorMixin\n",
    "    _required_parameters: List[str] = []\n",
    "\n",
    "    @abstractmethod\n",
    "    def __init__(\n",
    "        self,\n",
    "        estimator=None,\n",
    "        *,\n",
    "        n_estimators=10,\n",
    "        estimator_params=tuple(),\n",
    "    ):\n",
    "        # Set parameters\n",
    "        self.estimator = estimator\n",
    "        self.n_estimators = n_estimators\n",
    "        self.estimator_params = estimator_params\n",
    "\n",
    "        # Don't instantiate estimators now! Parameters of estimator might\n",
    "        # still change. Eg., when grid-searching with the nested object syntax.\n",
    "        # self.estimators_ needs to be filled by the derived classes in fit.\n",
    "\n",
    "    def _validate_estimator(self, default=None):\n",
    "        \"\"\"Check the base estimator.\n",
    "\n",
    "        Sets the `estimator_` attributes.\n",
    "        \"\"\"\n",
    "        if self.estimator is not None:\n",
    "            self.estimator_ = self.estimator\n",
    "        else:\n",
    "            self.estimator_ = default\n",
    "\n",
    "    def _make_estimator(self, append=True, random_state=None):\n",
    "        \"\"\"Make and configure a copy of the `estimator_` attribute.\n",
    "\n",
    "        Warning: This method should be used to properly instantiate new\n",
    "        sub-estimators.\n",
    "        \"\"\"\n",
    "        estimator = clone(self.estimator_)\n",
    "        estimator.set_params(**{p: getattr(self, p) for p in self.estimator_params})\n",
    "\n",
    "        if random_state is not None:\n",
    "            _set_random_states(estimator, random_state)\n",
    "\n",
    "        if append:\n",
    "            self.estimators_.append(estimator)\n",
    "\n",
    "        return estimator\n",
    "\n",
    "    def __len__(self):\n",
    "        \"\"\"Return the number of estimators in the ensemble.\"\"\"\n",
    "        return len(self.estimators_)\n",
    "\n",
    "    def __getitem__(self, index):\n",
    "        \"\"\"Return the index'th estimator in the ensemble.\"\"\"\n",
    "        return self.estimators_[index]\n",
    "\n",
    "    def __iter__(self):\n",
    "        \"\"\"Return iterator over estimators in the ensemble.\"\"\"\n",
    "        return iter(self.estimators_)\n",
    "\n",
    "\n",
    "def _partition_estimators(n_estimators, n_jobs):\n",
    "    \"\"\"Private function used to partition estimators between jobs.\"\"\"\n",
    "    # Compute the number of jobs\n",
    "    n_jobs = min(effective_n_jobs(n_jobs), n_estimators)\n",
    "\n",
    "    # Partition estimators between jobs\n",
    "    n_estimators_per_job = np.full(n_jobs, n_estimators // n_jobs, dtype=int)\n",
    "    n_estimators_per_job[: n_estimators % n_jobs] += 1\n",
    "    starts = np.cumsum(n_estimators_per_job)\n",
    "\n",
    "    return n_jobs, n_estimators_per_job.tolist(), [0] + starts.tolist()\n",
    "\n"
   ]
  },
  {
   "cell_type": "code",
   "execution_count": null,
   "id": "05a04a98-c9e4-4ead-b9ca-05d44193c57e",
   "metadata": {},
   "outputs": [],
   "source": []
  }
 ],
 "metadata": {
  "kernelspec": {
   "display_name": "Python 3 (ipykernel)",
   "language": "python",
   "name": "python3"
  },
  "language_info": {
   "codemirror_mode": {
    "name": "ipython",
    "version": 3
   },
   "file_extension": ".py",
   "mimetype": "text/x-python",
   "name": "python",
   "nbconvert_exporter": "python",
   "pygments_lexer": "ipython3",
   "version": "3.11.8"
  }
 },
 "nbformat": 4,
 "nbformat_minor": 5
}
